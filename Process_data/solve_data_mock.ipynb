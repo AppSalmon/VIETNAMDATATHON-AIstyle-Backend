{
 "cells": [
  {
   "cell_type": "code",
   "execution_count": 1,
   "metadata": {},
   "outputs": [],
   "source": [
    "import pandas as pd\n",
    "import numpy as np\n",
    "import json \n",
    "import re"
   ]
  },
  {
   "cell_type": "code",
   "execution_count": 5,
   "metadata": {},
   "outputs": [
    {
     "data": {
      "text/html": [
       "<div>\n",
       "<style scoped>\n",
       "    .dataframe tbody tr th:only-of-type {\n",
       "        vertical-align: middle;\n",
       "    }\n",
       "\n",
       "    .dataframe tbody tr th {\n",
       "        vertical-align: top;\n",
       "    }\n",
       "\n",
       "    .dataframe thead th {\n",
       "        text-align: right;\n",
       "    }\n",
       "</style>\n",
       "<table border=\"1\" class=\"dataframe\">\n",
       "  <thead>\n",
       "    <tr style=\"text-align: right;\">\n",
       "      <th></th>\n",
       "      <th>availability</th>\n",
       "      <th>avg_rating</th>\n",
       "      <th>brand</th>\n",
       "      <th>color</th>\n",
       "      <th>currency</th>\n",
       "      <th>description</th>\n",
       "      <th>images</th>\n",
       "      <th>name</th>\n",
       "      <th>price</th>\n",
       "      <th>original_price</th>\n",
       "      <th>review_count</th>\n",
       "      <th>scraped_at</th>\n",
       "      <th>url</th>\n",
       "      <th>mock_prices</th>\n",
       "      <th>category</th>\n",
       "      <th>cloth_gender</th>\n",
       "    </tr>\n",
       "  </thead>\n",
       "  <tbody>\n",
       "    <tr>\n",
       "      <th>167</th>\n",
       "      <td>InStock</td>\n",
       "      <td>5.0</td>\n",
       "      <td>nike</td>\n",
       "      <td>Cargo Khaki/Cargo Khaki</td>\n",
       "      <td>USA</td>\n",
       "      <td>Made with soft cotton twill in a military-insp...</td>\n",
       "      <td>[https://static.nike.com/a/images/t_PDP_1728_v...</td>\n",
       "      <td>Nike Life</td>\n",
       "      <td>100.0</td>\n",
       "      <td>100.0</td>\n",
       "      <td>1</td>\n",
       "      <td>2023-12-16 12:06:48</td>\n",
       "      <td>https://www.nike.com/t/life-mens-cargo-pants-r...</td>\n",
       "      <td>[66.22404785325627, 45.60467012885911, 82.7442...</td>\n",
       "      <td>NaN</td>\n",
       "      <td>NaN</td>\n",
       "    </tr>\n",
       "    <tr>\n",
       "      <th>2224</th>\n",
       "      <td>InStock</td>\n",
       "      <td>5.0</td>\n",
       "      <td>adidas</td>\n",
       "      <td>Black</td>\n",
       "      <td>USA</td>\n",
       "      <td>Description\\nAN EYE FOR THE UNEXPECTED.\\nUsing...</td>\n",
       "      <td>[https://assets.adidas.com/images/w_600,f_auto...</td>\n",
       "      <td>DILL EYES SHORT SLEEVE TEE</td>\n",
       "      <td>20.0</td>\n",
       "      <td>32.0</td>\n",
       "      <td>1</td>\n",
       "      <td>2023-12-14 08:02:40</td>\n",
       "      <td>https://www.adidas.com/us/dill-eyes-short-slee...</td>\n",
       "      <td>[40.81807791847716, 13.316232685802802, 41.774...</td>\n",
       "      <td>Clothing</td>\n",
       "      <td>Men</td>\n",
       "    </tr>\n",
       "    <tr>\n",
       "      <th>332</th>\n",
       "      <td>InStock</td>\n",
       "      <td>0.0</td>\n",
       "      <td>nike</td>\n",
       "      <td>Anthracite</td>\n",
       "      <td>USA</td>\n",
       "      <td>Featuring a bold design with details from the ...</td>\n",
       "      <td>[https://static.nike.com/a/images/t_PDP_1728_v...</td>\n",
       "      <td>Super Bowl LVIII Essential</td>\n",
       "      <td>35.0</td>\n",
       "      <td>35.0</td>\n",
       "      <td>0</td>\n",
       "      <td>2023-12-16 12:30:32</td>\n",
       "      <td>https://www.nike.com/t/super-bowl-lviii-essent...</td>\n",
       "      <td>[66.22404785325627, 45.60467012885911, 82.7442...</td>\n",
       "      <td>NaN</td>\n",
       "      <td>NaN</td>\n",
       "    </tr>\n",
       "  </tbody>\n",
       "</table>\n",
       "</div>"
      ],
      "text/plain": [
       "     availability  avg_rating   brand                    color currency  \\\n",
       "167       InStock         5.0    nike  Cargo Khaki/Cargo Khaki      USA   \n",
       "2224      InStock         5.0  adidas                    Black      USA   \n",
       "332       InStock         0.0    nike               Anthracite      USA   \n",
       "\n",
       "                                            description  \\\n",
       "167   Made with soft cotton twill in a military-insp...   \n",
       "2224  Description\\nAN EYE FOR THE UNEXPECTED.\\nUsing...   \n",
       "332   Featuring a bold design with details from the ...   \n",
       "\n",
       "                                                 images  \\\n",
       "167   [https://static.nike.com/a/images/t_PDP_1728_v...   \n",
       "2224  [https://assets.adidas.com/images/w_600,f_auto...   \n",
       "332   [https://static.nike.com/a/images/t_PDP_1728_v...   \n",
       "\n",
       "                            name  price  original_price  review_count  \\\n",
       "167                    Nike Life  100.0           100.0             1   \n",
       "2224  DILL EYES SHORT SLEEVE TEE   20.0            32.0             1   \n",
       "332   Super Bowl LVIII Essential   35.0            35.0             0   \n",
       "\n",
       "              scraped_at                                                url  \\\n",
       "167  2023-12-16 12:06:48  https://www.nike.com/t/life-mens-cargo-pants-r...   \n",
       "2224 2023-12-14 08:02:40  https://www.adidas.com/us/dill-eyes-short-slee...   \n",
       "332  2023-12-16 12:30:32  https://www.nike.com/t/super-bowl-lviii-essent...   \n",
       "\n",
       "                                            mock_prices  category cloth_gender  \n",
       "167   [66.22404785325627, 45.60467012885911, 82.7442...       NaN          NaN  \n",
       "2224  [40.81807791847716, 13.316232685802802, 41.774...  Clothing          Men  \n",
       "332   [66.22404785325627, 45.60467012885911, 82.7442...       NaN          NaN  "
      ]
     },
     "execution_count": 5,
     "metadata": {},
     "output_type": "execute_result"
    }
   ],
   "source": [
    "path = 'data_mock_prices.json'\n",
    "df = pd.read_json(path)\n",
    "df.sample(3) \n"
   ]
  },
  {
   "cell_type": "code",
   "execution_count": 6,
   "metadata": {},
   "outputs": [],
   "source": [
    "# Thay thế các dấu /n trong description\n",
    "descrip =  []\n",
    "for index,item in enumerate(df.description):\n",
    "    try:\n",
    "        descrip.append(re.sub(\"\\n\",\" \",item))\n",
    "    except:\n",
    "        descrip.append(item)\n",
    "\n",
    "df.description = descrip"
   ]
  },
  {
   "cell_type": "code",
   "execution_count": 7,
   "metadata": {},
   "outputs": [],
   "source": [
    "price =  []\n",
    "for index,item in enumerate(df.price):\n",
    "    try:\n",
    "        price.append(int(re.sub(r'\\D', '', item)))\n",
    "    except:\n",
    "        price.append(item)\n",
    "\n",
    "df.price = price"
   ]
  },
  {
   "cell_type": "code",
   "execution_count": 8,
   "metadata": {},
   "outputs": [],
   "source": [
    "origin_price =  []\n",
    "for index,item in enumerate(df.original_price):\n",
    "    try:\n",
    "        origin_price.append(int(re.sub(r'\\D', '', item)))\n",
    "    except:\n",
    "        origin_price.append(item)\n",
    "\n",
    "df.original_price = origin_price"
   ]
  },
  {
   "cell_type": "code",
   "execution_count": 9,
   "metadata": {},
   "outputs": [],
   "source": [
    "# Các cột cần chuyển về chữ thường\n",
    "list_columns_convert_lower = ['availability', 'brand', 'color', 'currency','description','name','category','cloth_gender']\n",
    "for col in list_columns_convert_lower:\n",
    "    df[col] = df[col].str.lower()"
   ]
  },
  {
   "cell_type": "code",
   "execution_count": 10,
   "metadata": {},
   "outputs": [
    {
     "name": "stdout",
     "output_type": "stream",
     "text": [
      "availability         0\n",
      "avg_rating           0\n",
      "brand                0\n",
      "color                0\n",
      "currency             0\n",
      "description          0\n",
      "images               0\n",
      "name                 0\n",
      "price                0\n",
      "original_price       0\n",
      "review_count         0\n",
      "scraped_at           0\n",
      "url                  0\n",
      "mock_prices          0\n",
      "category          1047\n",
      "cloth_gender      1047\n",
      "dtype: int64\n"
     ]
    }
   ],
   "source": [
    "nan_counts = df.isna().sum()\n",
    "\n",
    "print(nan_counts)"
   ]
  },
  {
   "cell_type": "code",
   "execution_count": 11,
   "metadata": {},
   "outputs": [
    {
     "name": "stdout",
     "output_type": "stream",
     "text": [
      "<class 'list'>\n"
     ]
    }
   ],
   "source": [
    "for index,row in df.iterrows():\n",
    "    print(type(row.mock_prices))\n",
    "    break"
   ]
  },
  {
   "cell_type": "code",
   "execution_count": 12,
   "metadata": {},
   "outputs": [],
   "source": [
    "df.to_csv(\"data.csv\")"
   ]
  },
  {
   "cell_type": "code",
   "execution_count": null,
   "metadata": {},
   "outputs": [],
   "source": []
  }
 ],
 "metadata": {
  "kernelspec": {
   "display_name": "Python 3",
   "language": "python",
   "name": "python3"
  },
  "language_info": {
   "codemirror_mode": {
    "name": "ipython",
    "version": 3
   },
   "file_extension": ".py",
   "mimetype": "text/x-python",
   "name": "python",
   "nbconvert_exporter": "python",
   "pygments_lexer": "ipython3",
   "version": "3.10.5"
  }
 },
 "nbformat": 4,
 "nbformat_minor": 2
}
