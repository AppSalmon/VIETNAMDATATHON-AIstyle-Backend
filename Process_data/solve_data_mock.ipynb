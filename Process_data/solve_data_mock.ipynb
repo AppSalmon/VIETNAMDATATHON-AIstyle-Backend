{
 "cells": [
  {
   "cell_type": "code",
   "execution_count": 16,
   "metadata": {},
   "outputs": [],
   "source": [
    "import pandas as pd\n",
    "import numpy as np\n",
    "import json \n",
    "import re"
   ]
  },
  {
   "cell_type": "code",
   "execution_count": 18,
   "metadata": {},
   "outputs": [
    {
     "data": {
      "text/html": [
       "<div>\n",
       "<style scoped>\n",
       "    .dataframe tbody tr th:only-of-type {\n",
       "        vertical-align: middle;\n",
       "    }\n",
       "\n",
       "    .dataframe tbody tr th {\n",
       "        vertical-align: top;\n",
       "    }\n",
       "\n",
       "    .dataframe thead th {\n",
       "        text-align: right;\n",
       "    }\n",
       "</style>\n",
       "<table border=\"1\" class=\"dataframe\">\n",
       "  <thead>\n",
       "    <tr style=\"text-align: right;\">\n",
       "      <th></th>\n",
       "      <th>ProductId</th>\n",
       "      <th>availability</th>\n",
       "      <th>avg_rating</th>\n",
       "      <th>brand</th>\n",
       "      <th>color</th>\n",
       "      <th>currency</th>\n",
       "      <th>description</th>\n",
       "      <th>images</th>\n",
       "      <th>name</th>\n",
       "      <th>price</th>\n",
       "      <th>original_price</th>\n",
       "      <th>review_count</th>\n",
       "      <th>scraped_at</th>\n",
       "      <th>url</th>\n",
       "      <th>mock_prices</th>\n",
       "      <th>category</th>\n",
       "      <th>cloth_gender</th>\n",
       "      <th>key_image</th>\n",
       "    </tr>\n",
       "  </thead>\n",
       "  <tbody>\n",
       "    <tr>\n",
       "      <th>88</th>\n",
       "      <td>89</td>\n",
       "      <td>instock</td>\n",
       "      <td>4.3</td>\n",
       "      <td>nike</td>\n",
       "      <td>white/sail/gum light brown/light blue</td>\n",
       "      <td>usa</td>\n",
       "      <td>simple, but sleek. subtle yet studded out with...</td>\n",
       "      <td>['https://static.nike.com/a/images/t_PDP_1728_...</td>\n",
       "      <td>nikecourt vapor lite 2</td>\n",
       "      <td>85.0</td>\n",
       "      <td>85</td>\n",
       "      <td>27</td>\n",
       "      <td>2023-12-16 11:53:48</td>\n",
       "      <td>https://www.nike.com/t/nikecourt-vapor-lite-2-...</td>\n",
       "      <td>83.71~64.2~103.4~39.75</td>\n",
       "      <td>None</td>\n",
       "      <td>None</td>\n",
       "      <td>https://static.nike.com/a/images/t_PDP_1728_v1...</td>\n",
       "    </tr>\n",
       "    <tr>\n",
       "      <th>272</th>\n",
       "      <td>273</td>\n",
       "      <td>instock</td>\n",
       "      <td>4.6</td>\n",
       "      <td>nike</td>\n",
       "      <td>port orange/black/black</td>\n",
       "      <td>usa</td>\n",
       "      <td>the nike elite tournament basketball is ready ...</td>\n",
       "      <td>['https://static.nike.com/a/images/t_PDP_1728_...</td>\n",
       "      <td>nike elite tournament</td>\n",
       "      <td>55.0</td>\n",
       "      <td>55</td>\n",
       "      <td>45</td>\n",
       "      <td>2023-12-16 12:22:10</td>\n",
       "      <td>https://www.nike.com/t/elite-tournament-basket...</td>\n",
       "      <td>31.61~32.41~50.64~65.1</td>\n",
       "      <td>None</td>\n",
       "      <td>None</td>\n",
       "      <td>None</td>\n",
       "    </tr>\n",
       "    <tr>\n",
       "      <th>129</th>\n",
       "      <td>130</td>\n",
       "      <td>instock</td>\n",
       "      <td>5.0</td>\n",
       "      <td>nike</td>\n",
       "      <td>ky j light olive/black</td>\n",
       "      <td>usa</td>\n",
       "      <td>your classic bomber jacket gets a jordan makeo...</td>\n",
       "      <td>['https://static.nike.com/a/images/t_PDP_1728_...</td>\n",
       "      <td>jordan essentials</td>\n",
       "      <td>250.0</td>\n",
       "      <td>250</td>\n",
       "      <td>1</td>\n",
       "      <td>2023-12-16 12:00:59</td>\n",
       "      <td>https://www.nike.com/t/jordan-essentials-mens-...</td>\n",
       "      <td>152.68~257.78~234.48~187.22</td>\n",
       "      <td>None</td>\n",
       "      <td>None</td>\n",
       "      <td>None</td>\n",
       "    </tr>\n",
       "  </tbody>\n",
       "</table>\n",
       "</div>"
      ],
      "text/plain": [
       "     ProductId availability  avg_rating brand  \\\n",
       "88          89      instock         4.3  nike   \n",
       "272        273      instock         4.6  nike   \n",
       "129        130      instock         5.0  nike   \n",
       "\n",
       "                                     color currency  \\\n",
       "88   white/sail/gum light brown/light blue      usa   \n",
       "272                port orange/black/black      usa   \n",
       "129                 ky j light olive/black      usa   \n",
       "\n",
       "                                           description  \\\n",
       "88   simple, but sleek. subtle yet studded out with...   \n",
       "272  the nike elite tournament basketball is ready ...   \n",
       "129  your classic bomber jacket gets a jordan makeo...   \n",
       "\n",
       "                                                images  \\\n",
       "88   ['https://static.nike.com/a/images/t_PDP_1728_...   \n",
       "272  ['https://static.nike.com/a/images/t_PDP_1728_...   \n",
       "129  ['https://static.nike.com/a/images/t_PDP_1728_...   \n",
       "\n",
       "                       name  price  original_price  review_count  \\\n",
       "88   nikecourt vapor lite 2   85.0              85            27   \n",
       "272   nike elite tournament   55.0              55            45   \n",
       "129       jordan essentials  250.0             250             1   \n",
       "\n",
       "             scraped_at                                                url  \\\n",
       "88  2023-12-16 11:53:48  https://www.nike.com/t/nikecourt-vapor-lite-2-...   \n",
       "272 2023-12-16 12:22:10  https://www.nike.com/t/elite-tournament-basket...   \n",
       "129 2023-12-16 12:00:59  https://www.nike.com/t/jordan-essentials-mens-...   \n",
       "\n",
       "                     mock_prices category cloth_gender  \\\n",
       "88        83.71~64.2~103.4~39.75     None         None   \n",
       "272       31.61~32.41~50.64~65.1     None         None   \n",
       "129  152.68~257.78~234.48~187.22     None         None   \n",
       "\n",
       "                                             key_image  \n",
       "88   https://static.nike.com/a/images/t_PDP_1728_v1...  \n",
       "272                                               None  \n",
       "129                                               None  "
      ]
     },
     "execution_count": 18,
     "metadata": {},
     "output_type": "execute_result"
    }
   ],
   "source": [
    "path = 'new_data_2.json'\n",
    "df = pd.read_json(path)\n",
    "df.sample(3) \n"
   ]
  },
  {
   "cell_type": "code",
   "execution_count": 19,
   "metadata": {},
   "outputs": [],
   "source": [
    "# Thay thế các dấu /n trong description\n",
    "descrip =  []\n",
    "for index,item in enumerate(df.description):\n",
    "    try:\n",
    "        descrip.append(re.sub(\"\\n\",\" \",item))\n",
    "    except:\n",
    "        descrip.append(item)\n",
    "\n",
    "df.description = descrip"
   ]
  },
  {
   "cell_type": "code",
   "execution_count": 20,
   "metadata": {},
   "outputs": [],
   "source": [
    "price =  []\n",
    "for index,item in enumerate(df.price):\n",
    "    try:\n",
    "        price.append(int(re.sub(r'\\D', '', item)))\n",
    "    except:\n",
    "        price.append(item)\n",
    "\n",
    "df.price = price"
   ]
  },
  {
   "cell_type": "code",
   "execution_count": 21,
   "metadata": {},
   "outputs": [],
   "source": [
    "origin_price =  []\n",
    "for index,item in enumerate(df.original_price):\n",
    "    try:\n",
    "        origin_price.append(int(re.sub(r'\\D', '', item)))\n",
    "    except:\n",
    "        origin_price.append(item)\n",
    "\n",
    "df.original_price = origin_price"
   ]
  },
  {
   "cell_type": "code",
   "execution_count": 22,
   "metadata": {},
   "outputs": [],
   "source": [
    "# Các cột cần chuyển về chữ thường\n",
    "list_columns_convert_lower = ['availability', 'brand', 'color', 'currency','description','name','category','cloth_gender']\n",
    "for col in list_columns_convert_lower:\n",
    "    df[col] = df[col].str.lower()"
   ]
  },
  {
   "cell_type": "code",
   "execution_count": 23,
   "metadata": {},
   "outputs": [
    {
     "name": "stdout",
     "output_type": "stream",
     "text": [
      "ProductId           0\n",
      "availability        0\n",
      "avg_rating          0\n",
      "brand               0\n",
      "color               0\n",
      "currency            0\n",
      "description         0\n",
      "images              0\n",
      "name                0\n",
      "price               0\n",
      "original_price      0\n",
      "review_count        0\n",
      "scraped_at          0\n",
      "url                 0\n",
      "mock_prices         0\n",
      "category          347\n",
      "cloth_gender      347\n",
      "key_image         210\n",
      "dtype: int64\n"
     ]
    }
   ],
   "source": [
    "nan_counts = df.isna().sum()\n",
    "\n",
    "print(nan_counts)"
   ]
  },
  {
   "cell_type": "code",
   "execution_count": null,
   "metadata": {},
   "outputs": [],
   "source": [
    "# list_mock = []\n",
    "# for index,row in df.iterrows():\n",
    "#     mock = str(round(row.mock_prices[0],2)) + \"~\"\n",
    "#     for i in range(1,len(row.mock_prices)):\n",
    "#         if i != len(row.mock_prices) - 1:\n",
    "#             mock += str(round(row.mock_prices[i],2)) + \"~\"\n",
    "#         else:\n",
    "#             mock += str(round(row.mock_prices[i],2))\n",
    "#     list_mock.append(mock)\n",
    "\n",
    "# df['mock_prices'] = list_mock\n",
    "        \n"
   ]
  },
  {
   "cell_type": "code",
   "execution_count": 24,
   "metadata": {},
   "outputs": [
    {
     "name": "stdout",
     "output_type": "stream",
     "text": [
      "ProductId           0\n",
      "availability        0\n",
      "avg_rating          0\n",
      "brand               0\n",
      "color               0\n",
      "currency            0\n",
      "description         0\n",
      "images              0\n",
      "name                0\n",
      "price               0\n",
      "original_price      0\n",
      "review_count        0\n",
      "scraped_at          0\n",
      "url                 0\n",
      "mock_prices         0\n",
      "category          347\n",
      "cloth_gender      347\n",
      "key_image           0\n",
      "dtype: int64\n"
     ]
    }
   ],
   "source": [
    "df['key_image'].fillna(\"\", inplace=True)\n",
    "nan_counts = df.isna().sum()\n",
    "\n",
    "print(nan_counts)"
   ]
  },
  {
   "cell_type": "code",
   "execution_count": 25,
   "metadata": {},
   "outputs": [],
   "source": [
    "df.to_csv(\"data_2.csv\")"
   ]
  },
  {
   "cell_type": "code",
   "execution_count": null,
   "metadata": {},
   "outputs": [],
   "source": []
  }
 ],
 "metadata": {
  "kernelspec": {
   "display_name": "Python 3",
   "language": "python",
   "name": "python3"
  },
  "language_info": {
   "codemirror_mode": {
    "name": "ipython",
    "version": 3
   },
   "file_extension": ".py",
   "mimetype": "text/x-python",
   "name": "python",
   "nbconvert_exporter": "python",
   "pygments_lexer": "ipython3",
   "version": "3.10.5"
  }
 },
 "nbformat": 4,
 "nbformat_minor": 2
}
