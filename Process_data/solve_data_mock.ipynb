{
 "cells": [
  {
   "cell_type": "code",
   "execution_count": 18,
   "metadata": {},
   "outputs": [],
   "source": [
    "import pandas as pd\n",
    "import numpy as np\n",
    "import json \n",
    "import re"
   ]
  },
  {
   "cell_type": "code",
   "execution_count": 19,
   "metadata": {},
   "outputs": [
    {
     "data": {
      "text/html": [
       "<div>\n",
       "<style scoped>\n",
       "    .dataframe tbody tr th:only-of-type {\n",
       "        vertical-align: middle;\n",
       "    }\n",
       "\n",
       "    .dataframe tbody tr th {\n",
       "        vertical-align: top;\n",
       "    }\n",
       "\n",
       "    .dataframe thead th {\n",
       "        text-align: right;\n",
       "    }\n",
       "</style>\n",
       "<table border=\"1\" class=\"dataframe\">\n",
       "  <thead>\n",
       "    <tr style=\"text-align: right;\">\n",
       "      <th></th>\n",
       "      <th>availability</th>\n",
       "      <th>avg_rating</th>\n",
       "      <th>brand</th>\n",
       "      <th>color</th>\n",
       "      <th>currency</th>\n",
       "      <th>description</th>\n",
       "      <th>images</th>\n",
       "      <th>name</th>\n",
       "      <th>price</th>\n",
       "      <th>original_price</th>\n",
       "      <th>review_count</th>\n",
       "      <th>scraped_at</th>\n",
       "      <th>url</th>\n",
       "      <th>mock_prices</th>\n",
       "      <th>category</th>\n",
       "      <th>cloth_gender</th>\n",
       "    </tr>\n",
       "  </thead>\n",
       "  <tbody>\n",
       "    <tr>\n",
       "      <th>1164</th>\n",
       "      <td>InStock</td>\n",
       "      <td>0.0</td>\n",
       "      <td>adidas</td>\n",
       "      <td>Core Black / Carbon / Grey One</td>\n",
       "      <td>USA</td>\n",
       "      <td>Description\\nPLAY CLASSY IN SYNTHETIC LEATHER ...</td>\n",
       "      <td>[https://assets.adidas.com/images/w_600,f_auto...</td>\n",
       "      <td>COPA PURE II LEAGUE FIRM GROUND CLEATS</td>\n",
       "      <td>55.0</td>\n",
       "      <td>55.0</td>\n",
       "      <td>0</td>\n",
       "      <td>2023-12-13 23:25:29</td>\n",
       "      <td>https://www.adidas.com/us/copa-pure-ii-league-...</td>\n",
       "      <td>[57.002032066715564, 50.59460518804821, 64.801...</td>\n",
       "      <td>Shoes</td>\n",
       "      <td>Kids</td>\n",
       "    </tr>\n",
       "    <tr>\n",
       "      <th>2311</th>\n",
       "      <td>InStock</td>\n",
       "      <td>4.7</td>\n",
       "      <td>adidas</td>\n",
       "      <td>Wonder Blue F23</td>\n",
       "      <td>USA</td>\n",
       "      <td>Description\\nSTRETCHY, PERFORMANCE-READY SHORT...</td>\n",
       "      <td>[https://assets.adidas.com/images/w_600,f_auto...</td>\n",
       "      <td>DESIGNED FOR TRAINING SHORTS</td>\n",
       "      <td>18.0</td>\n",
       "      <td>40.0</td>\n",
       "      <td>534</td>\n",
       "      <td>2023-12-14 10:18:32</td>\n",
       "      <td>https://www.adidas.com/us/designed-for-trainin...</td>\n",
       "      <td>[14.57188953394588, 12.545721382473058, 19.389...</td>\n",
       "      <td>Clothing</td>\n",
       "      <td>Men</td>\n",
       "    </tr>\n",
       "    <tr>\n",
       "      <th>2239</th>\n",
       "      <td>InStock</td>\n",
       "      <td>4.8</td>\n",
       "      <td>adidas</td>\n",
       "      <td>Black</td>\n",
       "      <td>USA</td>\n",
       "      <td>Description\\nA LIGHTWEIGHT, WINDPROOF JACKET T...</td>\n",
       "      <td>[https://assets.adidas.com/images/w_600,f_auto...</td>\n",
       "      <td>ULTIMATE JACKET</td>\n",
       "      <td>130.0</td>\n",
       "      <td>130.0</td>\n",
       "      <td>26</td>\n",
       "      <td>2023-12-14 08:09:42</td>\n",
       "      <td>https://www.adidas.com/us/ultimate-jacket/HY14...</td>\n",
       "      <td>[162.07236754037544, 161.14358600235596, 139.2...</td>\n",
       "      <td>Clothing</td>\n",
       "      <td>Men</td>\n",
       "    </tr>\n",
       "  </tbody>\n",
       "</table>\n",
       "</div>"
      ],
      "text/plain": [
       "     availability  avg_rating   brand                           color  \\\n",
       "1164      InStock         0.0  adidas  Core Black / Carbon / Grey One   \n",
       "2311      InStock         4.7  adidas                 Wonder Blue F23   \n",
       "2239      InStock         4.8  adidas                           Black   \n",
       "\n",
       "     currency                                        description  \\\n",
       "1164      USA  Description\\nPLAY CLASSY IN SYNTHETIC LEATHER ...   \n",
       "2311      USA  Description\\nSTRETCHY, PERFORMANCE-READY SHORT...   \n",
       "2239      USA  Description\\nA LIGHTWEIGHT, WINDPROOF JACKET T...   \n",
       "\n",
       "                                                 images  \\\n",
       "1164  [https://assets.adidas.com/images/w_600,f_auto...   \n",
       "2311  [https://assets.adidas.com/images/w_600,f_auto...   \n",
       "2239  [https://assets.adidas.com/images/w_600,f_auto...   \n",
       "\n",
       "                                        name  price  original_price  \\\n",
       "1164  COPA PURE II LEAGUE FIRM GROUND CLEATS   55.0            55.0   \n",
       "2311            DESIGNED FOR TRAINING SHORTS   18.0            40.0   \n",
       "2239                         ULTIMATE JACKET  130.0           130.0   \n",
       "\n",
       "      review_count          scraped_at  \\\n",
       "1164             0 2023-12-13 23:25:29   \n",
       "2311           534 2023-12-14 10:18:32   \n",
       "2239            26 2023-12-14 08:09:42   \n",
       "\n",
       "                                                    url  \\\n",
       "1164  https://www.adidas.com/us/copa-pure-ii-league-...   \n",
       "2311  https://www.adidas.com/us/designed-for-trainin...   \n",
       "2239  https://www.adidas.com/us/ultimate-jacket/HY14...   \n",
       "\n",
       "                                            mock_prices  category cloth_gender  \n",
       "1164  [57.002032066715564, 50.59460518804821, 64.801...     Shoes         Kids  \n",
       "2311  [14.57188953394588, 12.545721382473058, 19.389...  Clothing          Men  \n",
       "2239  [162.07236754037544, 161.14358600235596, 139.2...  Clothing          Men  "
      ]
     },
     "execution_count": 19,
     "metadata": {},
     "output_type": "execute_result"
    }
   ],
   "source": [
    "path = 'data_mock_prices_main_main.json'\n",
    "df = pd.read_json(path)\n",
    "df.sample(3) \n"
   ]
  },
  {
   "cell_type": "code",
   "execution_count": 20,
   "metadata": {},
   "outputs": [],
   "source": [
    "# Thay thế các dấu /n trong description\n",
    "descrip =  []\n",
    "for index,item in enumerate(df.description):\n",
    "    try:\n",
    "        descrip.append(re.sub(\"\\n\",\" \",item))\n",
    "    except:\n",
    "        descrip.append(item)\n",
    "\n",
    "df.description = descrip"
   ]
  },
  {
   "cell_type": "code",
   "execution_count": 21,
   "metadata": {},
   "outputs": [],
   "source": [
    "price =  []\n",
    "for index,item in enumerate(df.price):\n",
    "    try:\n",
    "        price.append(int(re.sub(r'\\D', '', item)))\n",
    "    except:\n",
    "        price.append(item)\n",
    "\n",
    "df.price = price"
   ]
  },
  {
   "cell_type": "code",
   "execution_count": 22,
   "metadata": {},
   "outputs": [],
   "source": [
    "origin_price =  []\n",
    "for index,item in enumerate(df.original_price):\n",
    "    try:\n",
    "        origin_price.append(int(re.sub(r'\\D', '', item)))\n",
    "    except:\n",
    "        origin_price.append(item)\n",
    "\n",
    "df.original_price = origin_price"
   ]
  },
  {
   "cell_type": "code",
   "execution_count": 23,
   "metadata": {},
   "outputs": [],
   "source": [
    "# Các cột cần chuyển về chữ thường\n",
    "list_columns_convert_lower = ['availability', 'brand', 'color', 'currency','description','name','category','cloth_gender']\n",
    "for col in list_columns_convert_lower:\n",
    "    df[col] = df[col].str.lower()"
   ]
  },
  {
   "cell_type": "code",
   "execution_count": 24,
   "metadata": {},
   "outputs": [
    {
     "name": "stdout",
     "output_type": "stream",
     "text": [
      "availability         0\n",
      "avg_rating           0\n",
      "brand                0\n",
      "color                0\n",
      "currency             0\n",
      "description          0\n",
      "images               0\n",
      "name                 0\n",
      "price                0\n",
      "original_price       0\n",
      "review_count         0\n",
      "scraped_at           0\n",
      "url                  0\n",
      "mock_prices          0\n",
      "category          1047\n",
      "cloth_gender      1047\n",
      "dtype: int64\n"
     ]
    }
   ],
   "source": [
    "nan_counts = df.isna().sum()\n",
    "\n",
    "print(nan_counts)"
   ]
  },
  {
   "cell_type": "code",
   "execution_count": 25,
   "metadata": {},
   "outputs": [],
   "source": [
    "list_mock = []\n",
    "for index,row in df.iterrows():\n",
    "    mock = str(round(row.mock_prices[0],2)) + \"~\"\n",
    "    for i in range(1,len(row.mock_prices)):\n",
    "        if i != len(row.mock_prices) - 1:\n",
    "            mock += str(round(row.mock_prices[i],2)) + \"~\"\n",
    "        else:\n",
    "            mock += str(round(row.mock_prices[i],2))\n",
    "    list_mock.append(mock)\n",
    "\n",
    "df['mock_prices'] = list_mock\n",
    "        \n"
   ]
  },
  {
   "cell_type": "code",
   "execution_count": 26,
   "metadata": {},
   "outputs": [],
   "source": [
    "df.to_csv(\"data.csv\")"
   ]
  },
  {
   "cell_type": "code",
   "execution_count": null,
   "metadata": {},
   "outputs": [],
   "source": []
  }
 ],
 "metadata": {
  "kernelspec": {
   "display_name": "Python 3",
   "language": "python",
   "name": "python3"
  },
  "language_info": {
   "codemirror_mode": {
    "name": "ipython",
    "version": 3
   },
   "file_extension": ".py",
   "mimetype": "text/x-python",
   "name": "python",
   "nbconvert_exporter": "python",
   "pygments_lexer": "ipython3",
   "version": "3.10.5"
  }
 },
 "nbformat": 4,
 "nbformat_minor": 2
}
